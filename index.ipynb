{
 "cells": [
  {
   "cell_type": "code",
   "execution_count": null,
   "metadata": {
    "index": 0
   },
   "outputs": [],
   "source": [
    "import pandas as pd\n",
    "import numpy as np\n",
    "import matplotlib.pyplot as plt\n",
    "%matplotlib inline\n",
    "\n",
    "%load_ext autoreload\n",
    "%autoreload 2\n",
    "\n",
    "import tensorflow as tf\n",
    "import tensorflow.keras \n",
    "\n",
    "from src.student_caller import CohortCaller\n",
    "from src.student_list import birmingham\n",
    "caller = CohortCaller(birmingham)\n",
    "\n",
    "import warnings\n",
    "warnings.filterwarnings('ignore')\n"
   ]
  },
  {
   "cell_type": "markdown",
   "metadata": {
    "index": 1
   },
   "source": [
    "We will be working with the breast cancer dataset for this review.  We can get the data from both Kaggle and Sklearn, or, in the present case, from the data folder."
   ]
  },
  {
   "cell_type": "markdown",
   "metadata": {
    "index": 2
   },
   "source": [
    "### Import the data from data folder"
   ]
  },
  {
   "cell_type": "code",
   "execution_count": null,
   "metadata": {
    "index": 3
   },
   "outputs": [],
   "source": [
    "caller.call_n_students(3)"
   ]
  },
  {
   "cell_type": "code",
   "execution_count": null,
   "metadata": {
    "index": 4
   },
   "outputs": [],
   "source": [
    "# YOUR CODE HERE"
   ]
  },
  {
   "cell_type": "markdown",
   "metadata": {
    "index": 6
   },
   "source": [
    "### Inspect the data.  What do we need to look for?"
   ]
  },
  {
   "cell_type": "code",
   "execution_count": null,
   "metadata": {
    "index": 7
   },
   "outputs": [],
   "source": [
    "caller.call_n_students(3)"
   ]
  },
  {
   "cell_type": "code",
   "execution_count": null,
   "metadata": {
    "index": 8
   },
   "outputs": [],
   "source": [
    "# YOUR CODE HERE"
   ]
  },
  {
   "cell_type": "markdown",
   "metadata": {
    "index": 10
   },
   "source": [
    "### Apply any fixes that may be needed"
   ]
  },
  {
   "cell_type": "code",
   "execution_count": null,
   "metadata": {
    "index": 11
   },
   "outputs": [],
   "source": [
    "caller.call_n_students(3)"
   ]
  },
  {
   "cell_type": "code",
   "execution_count": null,
   "metadata": {
    "index": 12
   },
   "outputs": [],
   "source": [
    "# YOUR CODE HERE"
   ]
  },
  {
   "cell_type": "markdown",
   "metadata": {
    "index": 14
   },
   "source": [
    "### What is our target? Is it in the correct form? What form does it need to be? "
   ]
  },
  {
   "cell_type": "code",
   "execution_count": null,
   "metadata": {
    "index": 15
   },
   "outputs": [],
   "source": [
    "caller.call_n_students(3)"
   ]
  },
  {
   "cell_type": "markdown",
   "metadata": {
    "index": 16
   },
   "source": [
    "YOUR ANSWER HERE"
   ]
  },
  {
   "cell_type": "markdown",
   "metadata": {
    "index": "Placeholder"
   },
   "source": [
    "*YOUR ANSWER HERE*"
   ]
  },
  {
   "cell_type": "markdown",
   "metadata": {
    "index": 18
   },
   "source": [
    "### Prep target with appropriate sklearn preprocessors"
   ]
  },
  {
   "cell_type": "code",
   "execution_count": null,
   "metadata": {
    "index": 19
   },
   "outputs": [],
   "source": [
    "caller.call_n_students(3)"
   ]
  },
  {
   "cell_type": "code",
   "execution_count": null,
   "metadata": {
    "index": 20
   },
   "outputs": [],
   "source": [
    "# YOUR CODE HERE"
   ]
  },
  {
   "cell_type": "markdown",
   "metadata": {
    "index": 22
   },
   "source": [
    "### drop target from training set"
   ]
  },
  {
   "cell_type": "code",
   "execution_count": null,
   "metadata": {
    "index": 23
   },
   "outputs": [],
   "source": [
    "caller.call_n_students(3)"
   ]
  },
  {
   "cell_type": "code",
   "execution_count": null,
   "metadata": {
    "index": 24
   },
   "outputs": [],
   "source": [
    "# YOUR CODE HERE"
   ]
  },
  {
   "cell_type": "markdown",
   "metadata": {
    "index": 26
   },
   "source": [
    "### Train-test split"
   ]
  },
  {
   "cell_type": "code",
   "execution_count": null,
   "metadata": {
    "index": 27
   },
   "outputs": [],
   "source": [
    "caller.call_n_students(3)"
   ]
  },
  {
   "cell_type": "code",
   "execution_count": null,
   "metadata": {
    "index": 28
   },
   "outputs": [],
   "source": [
    "# YOUR CODE HERE"
   ]
  },
  {
   "cell_type": "markdown",
   "metadata": {
    "index": 30
   },
   "source": [
    "### How do the features look?  Do we need any type of preprocessing?"
   ]
  },
  {
   "cell_type": "code",
   "execution_count": null,
   "metadata": {
    "index": 31
   },
   "outputs": [],
   "source": [
    "caller.call_n_students(3)"
   ]
  },
  {
   "cell_type": "code",
   "execution_count": null,
   "metadata": {
    "index": 32
   },
   "outputs": [],
   "source": [
    "# YOUR CODE HERE"
   ]
  },
  {
   "cell_type": "markdown",
   "metadata": {
    "index": 34
   },
   "source": [
    "### Let's instantiate neural network model. If we want a feed forward model, one which only propogates information forward from one layer to the next, what type of model do we need? "
   ]
  },
  {
   "cell_type": "code",
   "execution_count": null,
   "metadata": {
    "index": 35
   },
   "outputs": [],
   "source": [
    "caller.call_n_students(3)"
   ]
  },
  {
   "cell_type": "code",
   "execution_count": null,
   "metadata": {
    "index": 36
   },
   "outputs": [],
   "source": [
    "# YOUR CODE HERE"
   ]
  },
  {
   "cell_type": "markdown",
   "metadata": {
    "index": 38
   },
   "source": [
    "### The first layer will need to include our input dimensions, which we can inspect with shape. Create the first layer of the model.\n",
    "> What arguments do we need in our input layer?"
   ]
  },
  {
   "cell_type": "code",
   "execution_count": null,
   "metadata": {
    "index": 39
   },
   "outputs": [],
   "source": [
    "caller.call_n_students(3)"
   ]
  },
  {
   "cell_type": "code",
   "execution_count": null,
   "metadata": {
    "index": 40
   },
   "outputs": [],
   "source": [
    "# YOUR CODE HERE"
   ]
  },
  {
   "cell_type": "markdown",
   "metadata": {
    "index": 42
   },
   "source": [
    "### There are two ways of setting up an input layer for keras models. What is the other way?"
   ]
  },
  {
   "cell_type": "code",
   "execution_count": null,
   "metadata": {
    "index": 43
   },
   "outputs": [],
   "source": [
    "caller.call_n_students(3)"
   ]
  },
  {
   "cell_type": "code",
   "execution_count": null,
   "metadata": {
    "index": 44
   },
   "outputs": [],
   "source": [
    "# YOUR CODE HERE"
   ]
  },
  {
   "cell_type": "markdown",
   "metadata": {
    "index": 46
   },
   "source": [
    "### If you haven't already, create a hidden layer to the model.\n",
    "> If we want layers in which every neuron is connected to the next, what type of layer do we need to add?\n",
    "\n",
    "> What are some tunable hyperparameters we can use with hidden layers?"
   ]
  },
  {
   "cell_type": "code",
   "execution_count": null,
   "metadata": {
    "index": 47
   },
   "outputs": [],
   "source": [
    "caller.call_n_students(3)"
   ]
  },
  {
   "cell_type": "code",
   "execution_count": null,
   "metadata": {
    "index": 48
   },
   "outputs": [],
   "source": [
    "# YOUR CODE HERE"
   ]
  },
  {
   "cell_type": "markdown",
   "metadata": {
    "index": 50
   },
   "source": [
    "### Now let's add an output layer. \n",
    "> What parameters do we need in our output layer?"
   ]
  },
  {
   "cell_type": "code",
   "execution_count": null,
   "metadata": {
    "index": 51
   },
   "outputs": [],
   "source": [
    "caller.call_n_students(3)"
   ]
  },
  {
   "cell_type": "code",
   "execution_count": null,
   "metadata": {
    "index": 52
   },
   "outputs": [],
   "source": [
    "# YOUR CODE HERE"
   ]
  },
  {
   "cell_type": "markdown",
   "metadata": {
    "index": 54
   },
   "source": [
    "### If we were working with a target with multiple target classes, we would want to change a specific argument in the output layer. Which argument would we change? What could we change it to?"
   ]
  },
  {
   "cell_type": "code",
   "execution_count": null,
   "metadata": {
    "index": 55
   },
   "outputs": [],
   "source": [
    "caller.call_n_students(3)"
   ]
  },
  {
   "cell_type": "markdown",
   "metadata": {
    "index": 56
   },
   "source": [
    "YOUR ANSWER HERE"
   ]
  },
  {
   "cell_type": "markdown",
   "metadata": {
    "index": "Placeholder"
   },
   "source": [
    "*YOUR ANSWER HERE*"
   ]
  },
  {
   "cell_type": "markdown",
   "metadata": {
    "index": 58
   },
   "source": [
    "### Now we have to configure how the model learns.  What method do we use to configure the model?"
   ]
  },
  {
   "cell_type": "code",
   "execution_count": null,
   "metadata": {
    "index": 59
   },
   "outputs": [],
   "source": [
    "caller.call_n_students(3)"
   ]
  },
  {
   "cell_type": "code",
   "execution_count": null,
   "metadata": {
    "index": 60
   },
   "outputs": [],
   "source": [
    "# YOUR CODE HERE"
   ]
  },
  {
   "cell_type": "markdown",
   "metadata": {
    "index": 62
   },
   "source": [
    "### At a high level, what is the difference between \"Stochastic Gradient Descent Optimization\" and \"Adam Optimization\""
   ]
  },
  {
   "cell_type": "code",
   "execution_count": null,
   "metadata": {
    "index": 63
   },
   "outputs": [],
   "source": [
    "caller.call_n_students(3)"
   ]
  },
  {
   "cell_type": "markdown",
   "metadata": {
    "index": 64
   },
   "source": [
    "YOUR ANSWER HERE"
   ]
  },
  {
   "cell_type": "markdown",
   "metadata": {
    "index": "Placeholder"
   },
   "source": [
    "*YOUR ANSWER HERE*"
   ]
  },
  {
   "cell_type": "markdown",
   "metadata": {
    "index": 66
   },
   "source": [
    "### Deep learning involves both forward and backward propogation.  Describe when the forward propogation does it's work. "
   ]
  },
  {
   "cell_type": "code",
   "execution_count": null,
   "metadata": {
    "index": 67
   },
   "outputs": [],
   "source": [
    "caller.call_n_students(3)"
   ]
  },
  {
   "cell_type": "markdown",
   "metadata": {
    "index": 68
   },
   "source": [
    " YOUR ANSWER HERE"
   ]
  },
  {
   "cell_type": "markdown",
   "metadata": {
    "index": 69
   },
   "source": [
    "==BEGIN SOLUTION==\n",
    "\n",
    "Forward propogation is the process of generating a prediction. Excluding intialization of model, Forward propogation is the first step that occurs for deep learning models. During which, the data is passed through the layers of the model, and the parameters of each layer are used to generate a prediction. "
   ]
  },
  {
   "cell_type": "markdown",
   "metadata": {
    "index": 70
   },
   "source": [
    "### Based on the different error types, what metric might we want to report on for this probem?"
   ]
  },
  {
   "cell_type": "code",
   "execution_count": null,
   "metadata": {
    "index": 71
   },
   "outputs": [],
   "source": [
    "caller.call_n_students(3)"
   ]
  },
  {
   "cell_type": "markdown",
   "metadata": {
    "index": 72
   },
   "source": [
    "YOUR ANSWER HERE"
   ]
  },
  {
   "cell_type": "markdown",
   "metadata": {
    "index": 73
   },
   "source": [
    "==BEGIN SOLUTION==\n",
    "\n",
    "recall"
   ]
  },
  {
   "cell_type": "markdown",
   "metadata": {
    "index": 74
   },
   "source": [
    "### If we had multi class, how would we change our arguments."
   ]
  },
  {
   "cell_type": "code",
   "execution_count": null,
   "metadata": {
    "index": 75
   },
   "outputs": [],
   "source": [
    "caller.call_n_students(3)"
   ]
  },
  {
   "cell_type": "markdown",
   "metadata": {
    "index": 76
   },
   "source": [
    "YOUR ANSWER HERE"
   ]
  },
  {
   "cell_type": "markdown",
   "metadata": {
    "index": "Placeholder"
   },
   "source": [
    "*YOUR ANSWER HERE*"
   ]
  },
  {
   "cell_type": "markdown",
   "metadata": {
    "index": 78
   },
   "source": [
    "### Let's fit a FSM neural net"
   ]
  },
  {
   "cell_type": "code",
   "execution_count": null,
   "metadata": {
    "index": 79
   },
   "outputs": [],
   "source": [
    "caller.call_n_students(3)"
   ]
  },
  {
   "cell_type": "code",
   "execution_count": null,
   "metadata": {
    "index": 80
   },
   "outputs": [],
   "source": [
    "# YOUR CODE HERE"
   ]
  },
  {
   "cell_type": "code",
   "execution_count": null,
   "metadata": {
    "index": 82
   },
   "outputs": [],
   "source": [
    "caller.call_n_students(3)"
   ]
  },
  {
   "cell_type": "markdown",
   "metadata": {
    "index": 83
   },
   "source": [
    "### Plot a confusion matrix for the FSM model."
   ]
  },
  {
   "cell_type": "code",
   "execution_count": null,
   "metadata": {
    "index": 84
   },
   "outputs": [],
   "source": [
    "caller.call_n_students(3)"
   ]
  },
  {
   "cell_type": "code",
   "execution_count": null,
   "metadata": {
    "index": 85
   },
   "outputs": [],
   "source": [
    "# YOUR CODE HERE"
   ]
  },
  {
   "cell_type": "markdown",
   "metadata": {
    "index": 87
   },
   "source": [
    "### The output isn't that interesting yet, since we only have 1 epoch.  Let's add more epochs. \n",
    "\n",
    "### Before we do that, what is an epoch?"
   ]
  },
  {
   "cell_type": "code",
   "execution_count": null,
   "metadata": {
    "index": 88
   },
   "outputs": [],
   "source": [
    "caller.call_n_students(3)"
   ]
  },
  {
   "cell_type": "markdown",
   "metadata": {
    "index": 89
   },
   "source": [
    "YOUR ANSWER HERE"
   ]
  },
  {
   "cell_type": "markdown",
   "metadata": {
    "index": 90
   },
   "source": [
    "==BEGIN SOLUTION==\n",
    "\n",
    "An epoch is the number of iterations for updating the weights of the model. "
   ]
  },
  {
   "cell_type": "markdown",
   "metadata": {
    "index": 91
   },
   "source": [
    "### Add more epochs to the model"
   ]
  },
  {
   "cell_type": "code",
   "execution_count": null,
   "metadata": {
    "index": 92
   },
   "outputs": [],
   "source": [
    "caller.call_n_students(3)"
   ]
  },
  {
   "cell_type": "code",
   "execution_count": null,
   "metadata": {
    "index": 93
   },
   "outputs": [],
   "source": [
    "# YOUR CODE HERE"
   ]
  },
  {
   "cell_type": "markdown",
   "metadata": {
    "index": 95
   },
   "source": [
    "### Now generate a subplot with two plots.\n",
    "\n",
    "1. A line plot that visualizes our loss across epochs.\n",
    "2. A line plot that visualizes our metric of choice across epochs."
   ]
  },
  {
   "cell_type": "code",
   "execution_count": null,
   "metadata": {
    "index": 96
   },
   "outputs": [],
   "source": [
    "caller.call_n_students(3)"
   ]
  },
  {
   "cell_type": "code",
   "execution_count": null,
   "metadata": {
    "index": 97
   },
   "outputs": [],
   "source": [
    "def plot_results(model):\n",
    "    fig, (ax1,ax2) = plt.subplots(1,2)\n",
    "\n",
    "    ax1.plot(model.history.epoch, model.history.history[YOUR CODE HERE], label=YOUR CODE HERE)\n",
    "    ax1.plot(model.history.epoch, model.history.history[YOUR CODE HERE], label=YOUR CODER HERE)\n",
    "    \n",
    "    ax1.legend()\n",
    "    \n",
    "    ax2.plot(model.history.epoch, model.history.history[YOUR CODE HERE], label=YOUR CODE HERE)\n",
    "    ax2.plot(model.history.epoch, model.history.history[YOUR CODE HERE], label=YOUR CODE HERE)\n",
    "\n",
    "    ax2.legend()\n",
    "    \n",
    "    \n",
    "plot_results(review_model)"
   ]
  },
  {
   "cell_type": "markdown",
   "metadata": {
    "index": 99
   },
   "source": [
    "### What can we gather from the above plots?"
   ]
  },
  {
   "cell_type": "code",
   "execution_count": null,
   "metadata": {
    "index": 100
   },
   "outputs": [],
   "source": [
    "caller.call_n_students(3)"
   ]
  },
  {
   "cell_type": "markdown",
   "metadata": {
    "index": 101
   },
   "source": [
    "YOUR ANSWER HERE"
   ]
  },
  {
   "cell_type": "markdown",
   "metadata": {
    "index": "Placeholder"
   },
   "source": [
    "*YOUR ANSWER HERE*"
   ]
  },
  {
   "cell_type": "markdown",
   "metadata": {
    "index": 103
   },
   "source": [
    "### What type of gradient descent are we using above?"
   ]
  },
  {
   "cell_type": "code",
   "execution_count": null,
   "metadata": {
    "index": 104
   },
   "outputs": [],
   "source": [
    "caller.call_n_students(3)"
   ]
  },
  {
   "cell_type": "markdown",
   "metadata": {
    "index": 105
   },
   "source": [
    "YOUR ANSWER HERE"
   ]
  },
  {
   "cell_type": "markdown",
   "metadata": {
    "index": "Placeholder"
   },
   "source": [
    "*YOUR ANSWER HERE*"
   ]
  },
  {
   "cell_type": "markdown",
   "metadata": {
    "index": 107
   },
   "source": [
    "### Let's try the other extreme of gradient descent."
   ]
  },
  {
   "cell_type": "code",
   "execution_count": null,
   "metadata": {
    "index": 108
   },
   "outputs": [],
   "source": [
    "caller.call_n_students(3)"
   ]
  },
  {
   "cell_type": "code",
   "execution_count": null,
   "metadata": {
    "index": 109
   },
   "outputs": [],
   "source": [
    "# YOUR CODE HERE"
   ]
  },
  {
   "cell_type": "code",
   "execution_count": null,
   "metadata": {
    "index": 111
   },
   "outputs": [],
   "source": [
    "def plot_cm(model, X_train, X_val, y_train, y_val):\n",
    "    \n",
    "    sk_model = SKWrapper(model)\n",
    "    fig, ax = plt.subplots(1,2, figsize=(15,6))\n",
    "\n",
    "    plot_confusion_matrix(sk_model, X_train, y_train, ax=ax[0])\n",
    "    plot_confusion_matrix(sk_model, X_val, y_val, ax=ax[1])\n",
    "    ax[0].set_title('Train')\n",
    "    ax[1].set_title('Test');\n",
    "    \n",
    "def report(model, X_train, X_val, y_train, y_val):\n",
    "    plot_cm(model, X_train, X_val, y_train, y_val)\n",
    "    plot_results(model)"
   ]
  },
  {
   "cell_type": "code",
   "execution_count": null,
   "metadata": {
    "index": 112
   },
   "outputs": [],
   "source": [
    "report(model, X_t_ss, X_v_ss, y_t, y_v)"
   ]
  },
  {
   "cell_type": "markdown",
   "metadata": {
    "index": 113
   },
   "source": [
    "### Now let's try somewhere in the middle"
   ]
  },
  {
   "cell_type": "code",
   "execution_count": null,
   "metadata": {
    "index": 114
   },
   "outputs": [],
   "source": [
    "caller.call_n_students(3)"
   ]
  },
  {
   "cell_type": "code",
   "execution_count": null,
   "metadata": {
    "index": 116
   },
   "outputs": [],
   "source": [
    "# YOUR CODE HERE"
   ]
  },
  {
   "cell_type": "markdown",
   "metadata": {
    "index": 117
   },
   "source": [
    "### If we were overfitting, what would our loss plot look like?"
   ]
  },
  {
   "cell_type": "code",
   "execution_count": null,
   "metadata": {
    "index": 118
   },
   "outputs": [],
   "source": [
    "caller.call_n_students(3)"
   ]
  },
  {
   "cell_type": "markdown",
   "metadata": {
    "index": 119
   },
   "source": [
    "YOUR ANSWER HERE"
   ]
  },
  {
   "cell_type": "markdown",
   "metadata": {
    "index": 120
   },
   "source": [
    "### How can we combat overfitting?"
   ]
  },
  {
   "cell_type": "code",
   "execution_count": null,
   "metadata": {
    "index": 121
   },
   "outputs": [],
   "source": [
    "caller.call_n_students(3)"
   ]
  },
  {
   "cell_type": "markdown",
   "metadata": {
    "index": 122
   },
   "source": [
    "YOUR ANSWER HERE"
   ]
  },
  {
   "cell_type": "markdown",
   "metadata": {
    "index": 123
   },
   "source": [
    "### Create a new model with adjusted hyperparameters."
   ]
  },
  {
   "cell_type": "code",
   "execution_count": null,
   "metadata": {
    "index": 124
   },
   "outputs": [],
   "source": [
    "caller.call_n_students(3)"
   ]
  },
  {
   "cell_type": "code",
   "execution_count": null,
   "metadata": {
    "index": 125
   },
   "outputs": [],
   "source": [
    "# YOUR CODE HERE"
   ]
  },
  {
   "cell_type": "code",
   "execution_count": null,
   "metadata": {
    "index": 126
   },
   "outputs": [],
   "source": [
    "caller.call_n_students(3)"
   ]
  },
  {
   "cell_type": "markdown",
   "metadata": {
    "index": 127
   },
   "source": [
    "### Evaluate the model's performance"
   ]
  },
  {
   "cell_type": "code",
   "execution_count": null,
   "metadata": {
    "index": 128
   },
   "outputs": [],
   "source": [
    "caller.call_n_students(3)"
   ]
  },
  {
   "cell_type": "code",
   "execution_count": null,
   "metadata": {
    "index": 129
   },
   "outputs": [],
   "source": [
    "# YOUR CODE HERE"
   ]
  },
  {
   "cell_type": "markdown",
   "metadata": {
    "index": 130
   },
   "source": [
    "### Score the final model on the testing data"
   ]
  },
  {
   "cell_type": "code",
   "execution_count": null,
   "metadata": {
    "index": 131
   },
   "outputs": [],
   "source": [
    "caller.call_n_students(3)"
   ]
  },
  {
   "cell_type": "code",
   "execution_count": null,
   "metadata": {
    "index": 132
   },
   "outputs": [],
   "source": [
    "# YOUR CODE HERE"
   ]
  }
 ],
 "metadata": {
  "kernelspec": {
   "display_name": "Python 3",
   "language": "python",
   "name": "python3"
  },
  "language_info": {
   "codemirror_mode": {
    "name": "ipython",
    "version": 3
   },
   "file_extension": ".py",
   "mimetype": "text/x-python",
   "name": "python",
   "nbconvert_exporter": "python",
   "pygments_lexer": "ipython3",
   "version": "3.7.4"
  }
 },
 "nbformat": 4,
 "nbformat_minor": 4
}
